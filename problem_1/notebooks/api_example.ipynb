{
 "cells": [
  {
   "cell_type": "code",
   "execution_count": 2,
   "id": "initial_id",
   "metadata": {
    "is_executing": true
   },
   "outputs": [],
   "source": [
    "import requests\n",
    "import json"
   ]
  },
  {
   "cell_type": "code",
   "execution_count": 28,
   "id": "1fd5802824e2341f",
   "metadata": {
    "collapsed": false,
    "is_executing": true,
    "jupyter": {
     "outputs_hidden": false
    }
   },
   "outputs": [
    {
     "data": {
      "text/plain": [
       "'{\"application_id\":\"25185914-8736-456f-a617-dd7a4e1dc17f\",\"request_id\":\"a534ca67-d45e-11ee-b03b-97f9d0c47ebf\",\"image_url\":\"https://images.rawpixel.com/image_png_1100/cHJpdmF0ZS9sci9pbWFnZXMvd2Vic2l0ZS8yMDIyLTExL3JtNjA0LWVsZW1lbnQtMDYwMS5wbmc.png\",\"status\":\"RECEIVED\",\"file_path\":null,\"image_type\":\"png\",\"data\":null}'"
      ]
     },
     "execution_count": 28,
     "metadata": {},
     "output_type": "execute_result"
    }
   ],
   "source": [
    "# Find your host from the API Gateway consile in AWS. it will be listed under \"STAGES\" where the stage name is PROD\n",
    "host = \"https://g085jk2iw1.execute-api.us-east-2.amazonaws.com/PROD/\"\n",
    "url = f\"{host}/receipt\"\n",
    "\n",
    "body = {\n",
    "    'application_id': '25185914-8736-456f-a617-dd7a4e1dc17f',\n",
    "    'image_url': 'https://images.rawpixel.com/image_png_1100/cHJpdmF0ZS9sci9pbWFnZXMvd2Vic2l0ZS8yMDIyLTExL3JtNjA0LWVsZW1lbnQtMDYwMS5wbmc.png'\n",
    "}\n",
    "headers = {\n",
    "    'Content-Type': 'application/json'\n",
    "}\n",
    "\n",
    "response = requests.post(url, headers=headers, data=json.dumps(body))\n",
    "\n",
    "id = response.json()['request_id']\n",
    "response.status_code\n",
    "response.text"
   ]
  },
  {
   "cell_type": "code",
   "execution_count": 41,
   "id": "826726a9bc164ca0",
   "metadata": {
    "collapsed": false,
    "is_executing": true,
    "jupyter": {
     "outputs_hidden": false
    }
   },
   "outputs": [
    {
     "data": {
      "text/plain": [
       "{'application_id': '25185914-8736-456f-a617-dd7a4e1dc17f',\n",
       " 'request_id': 'a534ca67-d45e-11ee-b03b-97f9d0c47ebf',\n",
       " 'image_url': 'https://images.rawpixel.com/image_png_1100/cHJpdmF0ZS9sci9pbWFnZXMvd2Vic2l0ZS8yMDIyLTExL3JtNjA0LWVsZW1lbnQtMDYwMS5wbmc.png',\n",
       " 'status': 'COMPLETE',\n",
       " 'file_path': 'images/request_id=a534ca67-d45e-11ee-b03b-97f9d0c47ebf/image.png',\n",
       " 'image_type': 'png',\n",
       " 'data': {'entries': [{'item': 'GO.RESTAURANT',\n",
       "    'quantity': None,\n",
       "    'price': None},\n",
       "   {'item': 'ITALIAN STEAK & FRIES', 'quantity': None, 'price': None},\n",
       "   {'item': 'BEEF SALLAD', 'quantity': None, 'price': None},\n",
       "   {'item': 'CHICKEN SALD', 'quantity': None, 'price': None},\n",
       "   {'item': 'BEEF', 'quantity': None, 'price': None},\n",
       "   {'item': 'SCRAMBLED EGGS', 'quantity': None, 'price': None},\n",
       "   {'item': 'SOUP', 'quantity': None, 'price': None},\n",
       "   {'item': 'VANILLA & LEMON MARTNI', 'quantity': None, 'price': None},\n",
       "   {'item': 'HOMEMADEL LEMONADE', 'quantity': None, 'price': None},\n",
       "   {'item': 'WATER', 'quantity': None, 'price': None}],\n",
       "  'total': {'price': '242.75'}}}"
      ]
     },
     "execution_count": 41,
     "metadata": {},
     "output_type": "execute_result"
    }
   ],
   "source": [
    "# You may need to run this cell multiple times until the status becomes \"COMPLETE\"\n",
    "response = requests.get(f'{url}?id={id}', headers=headers)\n",
    "response.json()"
   ]
  },
  {
   "cell_type": "code",
   "execution_count": null,
   "id": "6320049a-70d9-4c81-af7e-3bda243e4651",
   "metadata": {},
   "outputs": [],
   "source": []
  },
  {
   "cell_type": "code",
   "execution_count": null,
   "id": "04cb4098-4f1d-4bd4-8776-97cefd4e9e84",
   "metadata": {},
   "outputs": [],
   "source": []
  }
 ],
 "metadata": {
  "kernelspec": {
   "display_name": "Python 3 (ipykernel)",
   "language": "python",
   "name": "python3"
  },
  "language_info": {
   "codemirror_mode": {
    "name": "ipython",
    "version": 3
   },
   "file_extension": ".py",
   "mimetype": "text/x-python",
   "name": "python",
   "nbconvert_exporter": "python",
   "pygments_lexer": "ipython3",
   "version": "3.9.17"
  }
 },
 "nbformat": 4,
 "nbformat_minor": 5
}
